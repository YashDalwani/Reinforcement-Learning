{
 "cells": [
  {
   "attachments": {},
   "cell_type": "markdown",
   "metadata": {},
   "source": [
    "BLACKJACK TRAINING:-"
   ]
  },
  {
   "attachments": {},
   "cell_type": "markdown",
   "metadata": {},
   "source": [
    "RULES OF BLACKJACK:-"
   ]
  },
  {
   "attachments": {},
   "cell_type": "markdown",
   "metadata": {},
   "source": [
    "1. Blackjack is played with one or more standard decks of 52 playing cards.\n",
    "2. The goal of the game is to beat the dealer's hand without exceeding a total of 21 points.\n",
    "3. Each card in the deck has a point value: numbered cards 2-10 are worth their face value, face cards (Jack, Queen, King) are worth 10 points each, and Aces can be worth 1 or 11 points, depending on the player's choice.\n",
    "4. The game begins with each player, including the dealer, receiving two cards. The players' cards are dealt face-up, while one of the dealer's cards is dealt face-up, and the other is face-down (hole card).\n",
    "5. Players take turns deciding whether to \"hit\" (receive another card from the dealer) or \"stand\" (keep their current hand).\n",
    "6. If the player's hand exceeds 21 points, they \"bust\" and lose the round.\n",
    "7. After all players have completed their turns, the dealer reveals their hole card.\n",
    "8. The dealer must follow a specific rule set known as \"house rules.\" Typically, the dealer must hit until their hand reaches a total of 17 or more points. If the dealer's hand exceeds 21 points, they bust.\n",
    "9. If the dealer has not busted, the dealer's hand is compared to each player's hand individually.\n",
    "10. If the player's hand has a higher point total than the dealer's hand without exceeding 21, the player wins and receives a payout of 1:1 (even money).\n",
    "11. If the player's hand is equal to the dealer's hand, it is a \"push\" or a tie, and the player's bet is returned.\n",
    "12. If the player's hand is lower in point value than the dealer's hand or if the player busts, the player loses the bet.\n",
    "13. If a player's initial two cards have a point total of 21 (an Ace and a 10-point card, also known as a \"natural\" or \"blackjack\"), they win immediately, unless the dealer also has a blackjack, resulting in a push.\n",
    "14. Insurance: If the dealer's face-up card is an Ace, players have the option to take \"insurance\" against the dealer having a blackjack. This is an additional bet of up to half the original bet. If the dealer has a blackjack, the insurance bet pays 2:1.\n",
    "15. Some variations of Blackjack may allow additional options such as \"splitting\" pairs, \"doubling down\" (doubling the bet and receiving one more card), or \"surrendering\" (giving up the hand and losing only half the bet).\n",
    "16. It's important to note that different casinos or regions may have slightly different rules and variations of Blackjack, so it's always a good idea to familiarize yourself with the specific rules of the table you're playing at."
   ]
  },
  {
   "attachments": {},
   "cell_type": "markdown",
   "metadata": {},
   "source": [
    "OpenAI Gymnasium BlackJack Documentation Link:-"
   ]
  },
  {
   "attachments": {},
   "cell_type": "markdown",
   "metadata": {},
   "source": [
    "https://gymnasium.farama.org/environments/toy_text/blackjack/"
   ]
  }
 ],
 "metadata": {
  "language_info": {
   "name": "python"
  },
  "orig_nbformat": 4
 },
 "nbformat": 4,
 "nbformat_minor": 2
}
