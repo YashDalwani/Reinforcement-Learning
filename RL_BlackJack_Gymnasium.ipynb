{
 "cells": [
  {
   "attachments": {},
   "cell_type": "markdown",
   "metadata": {},
   "source": [
    "BLACKJACK TRAINING:-"
   ]
  },
  {
   "attachments": {},
   "cell_type": "markdown",
   "metadata": {},
   "source": [
    "RULES OF BLACKJACK:-"
   ]
  },
  {
   "attachments": {},
   "cell_type": "markdown",
   "metadata": {},
   "source": [
    "1. Blackjack is played with one or more standard decks of 52 playing cards.\n",
    "2. The goal of the game is to beat the dealer's hand without exceeding a total of 21 points.\n",
    "3. Each card in the deck has a point value: numbered cards 2-10 are worth their face value, face cards (Jack, Queen, King) are worth 10 points each, and Aces can be worth 1 or 11 points, depending on the player's choice.\n",
    "4. The game begins with each player, including the dealer, receiving two cards. The players' cards are dealt face-up, while one of the dealer's cards is dealt face-up, and the other is face-down (hole card).\n",
    "5. Players take turns deciding whether to \"hit\" (receive another card from the dealer) or \"stand\" (keep their current hand).\n",
    "6. If the player's hand exceeds 21 points, they \"bust\" and lose the round.\n",
    "7. After all players have completed their turns, the dealer reveals their hole card.\n",
    "8. The dealer must follow a specific rule set known as \"house rules.\" Typically, the dealer must hit until their hand reaches a total of 17 or more points. If the dealer's hand exceeds 21 points, they bust.\n",
    "9. If the dealer has not busted, the dealer's hand is compared to each player's hand individually.\n",
    "10. If the player's hand has a higher point total than the dealer's hand without exceeding 21, the player wins and receives a payout of 1:1 (even money).\n",
    "11. If the player's hand is equal to the dealer's hand, it is a \"push\" or a tie, and the player's bet is returned.\n",
    "12. If the player's hand is lower in point value than the dealer's hand or if the player busts, the player loses the bet.\n",
    "13. If a player's initial two cards have a point total of 21 (an Ace and a 10-point card, also known as a \"natural\" or \"blackjack\"), they win immediately, unless the dealer also has a blackjack, resulting in a push.\n",
    "14. Insurance: If the dealer's face-up card is an Ace, players have the option to take \"insurance\" against the dealer having a blackjack. This is an additional bet of up to half the original bet. If the dealer has a blackjack, the insurance bet pays 2:1.\n",
    "15. Some variations of Blackjack may allow additional options such as \"splitting\" pairs, \"doubling down\" (doubling the bet and receiving one more card), or \"surrendering\" (giving up the hand and losing only half the bet).\n",
    "16. It's important to note that different casinos or regions may have slightly different rules and variations of Blackjack, so it's always a good idea to familiarize yourself with the specific rules of the table you're playing at."
   ]
  },
  {
   "attachments": {},
   "cell_type": "markdown",
   "metadata": {},
   "source": [
    "OpenAI Gymnasium BlackJack Documentation Link:-"
   ]
  },
  {
   "attachments": {},
   "cell_type": "markdown",
   "metadata": {},
   "source": [
    "https://gymnasium.farama.org/environments/toy_text/blackjack/"
   ]
  },
  {
   "attachments": {},
   "cell_type": "markdown",
   "metadata": {},
   "source": [
    "Solving BlackJack:-"
   ]
  },
  {
   "attachments": {},
   "cell_type": "markdown",
   "metadata": {},
   "source": [
    "Installing and Importing Libraries:-"
   ]
  },
  {
   "cell_type": "code",
   "execution_count": 4,
   "metadata": {},
   "outputs": [
    {
     "name": "stdout",
     "output_type": "stream",
     "text": [
      "Collecting gymnasium==0.27.0\n",
      "  Downloading gymnasium-0.27.0-py3-none-any.whl (879 kB)\n",
      "\u001b[2K     \u001b[90m━━━━━━━━━━━━━━━━━━━━━━━━━━━━━━━━━━━━━━━\u001b[0m \u001b[32m879.1/879.1 kB\u001b[0m \u001b[31m3.8 MB/s\u001b[0m eta \u001b[36m0:00:00\u001b[0ma \u001b[36m0:00:01\u001b[0m\n",
      "\u001b[?25hCollecting typing-extensions>=4.3.0\n",
      "  Downloading typing_extensions-4.6.3-py3-none-any.whl (31 kB)\n",
      "Collecting shimmy<1.0,>=0.1.0\n",
      "  Downloading Shimmy-0.2.1-py3-none-any.whl (25 kB)\n",
      "Collecting cloudpickle>=1.2.0\n",
      "  Downloading cloudpickle-2.2.1-py3-none-any.whl (25 kB)\n",
      "Collecting jax-jumpy>=0.2.0\n",
      "  Downloading jax_jumpy-1.0.0-py3-none-any.whl (20 kB)\n",
      "Requirement already satisfied: numpy>=1.21.0 in /Library/Frameworks/Python.framework/Versions/3.10/lib/python3.10/site-packages (from gymnasium==0.27.0) (1.22.2)\n",
      "Collecting gymnasium-notices>=0.0.1\n",
      "  Downloading gymnasium_notices-0.0.1-py3-none-any.whl (2.8 kB)\n",
      "Installing collected packages: gymnasium-notices, typing-extensions, jax-jumpy, cloudpickle, shimmy, gymnasium\n",
      "  Attempting uninstall: typing-extensions\n",
      "    Found existing installation: typing_extensions 4.0.1\n",
      "    Uninstalling typing_extensions-4.0.1:\n",
      "      Successfully uninstalled typing_extensions-4.0.1\n",
      "Successfully installed cloudpickle-2.2.1 gymnasium-0.27.0 gymnasium-notices-0.0.1 jax-jumpy-1.0.0 shimmy-0.2.1 typing-extensions-4.6.3\n",
      "\n",
      "\u001b[1m[\u001b[0m\u001b[34;49mnotice\u001b[0m\u001b[1;39;49m]\u001b[0m\u001b[39;49m A new release of pip is available: \u001b[0m\u001b[31;49m23.0\u001b[0m\u001b[39;49m -> \u001b[0m\u001b[32;49m23.1.2\u001b[0m\n",
      "\u001b[1m[\u001b[0m\u001b[34;49mnotice\u001b[0m\u001b[1;39;49m]\u001b[0m\u001b[39;49m To update, run: \u001b[0m\u001b[32;49mpip install --upgrade pip\u001b[0m\n"
     ]
    }
   ],
   "source": [
    "!pip install gymnasium==0.27.0\n"
   ]
  },
  {
   "cell_type": "code",
   "execution_count": null,
   "metadata": {},
   "outputs": [],
   "source": [
    "from collections import defaultdict\n",
    "import matplotlib.pyplot as plt\n",
    "from matplotlib.patches import Patch\n",
    "import numpy as np\n",
    "import seaborn as sns\n",
    "from tqdm import tqdm #for progress bar to show loading\n",
    "import gymnasium as gym"
   ]
  },
  {
   "cell_type": "code",
   "execution_count": null,
   "metadata": {},
   "outputs": [],
   "source": [
    "env = gym.make('Blackjack-v1',sab=True,render_mode=\"rgb_array\")"
   ]
  },
  {
   "attachments": {},
   "cell_type": "markdown",
   "metadata": {},
   "source": [
    "Observing Environment:-"
   ]
  },
  {
   "cell_type": "code",
   "execution_count": null,
   "metadata": {},
   "outputs": [],
   "source": [
    "#Resetting Environment\n",
    "done=False\n",
    "observation,info = env.reset()\n",
    "\n",
    "#observation = (16,9,False)"
   ]
  },
  {
   "attachments": {},
   "cell_type": "markdown",
   "metadata": {},
   "source": [
    "Note that the observation is a Tuple consisting of 3 Values:\n",
    "\n",
    "1. Players current sum\n",
    "2. Value of dealers face-up card\n",
    "3. Boolean wether the player holds a usable Ace card"
   ]
  }
 ],
 "metadata": {
  "kernelspec": {
   "display_name": "Python 3",
   "language": "python",
   "name": "python3"
  },
  "language_info": {
   "codemirror_mode": {
    "name": "ipython",
    "version": 3
   },
   "file_extension": ".py",
   "mimetype": "text/x-python",
   "name": "python",
   "nbconvert_exporter": "python",
   "pygments_lexer": "ipython3",
   "version": "3.10.2"
  },
  "orig_nbformat": 4
 },
 "nbformat": 4,
 "nbformat_minor": 2
}
